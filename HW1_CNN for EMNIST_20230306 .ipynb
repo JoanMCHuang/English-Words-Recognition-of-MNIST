{
 "cells": [
  {
   "cell_type": "markdown",
   "id": "823b08cd",
   "metadata": {},
   "source": [
    "### Dependencies"
   ]
  },
  {
   "cell_type": "code",
   "execution_count": 1,
   "id": "a386e735",
   "metadata": {},
   "outputs": [],
   "source": [
    "# Visualization Dependencies\n",
    "from IPython.display import Image, SVG\n",
    "import seaborn as sns\n",
    "import os\n",
    "import numpy as np"
   ]
  },
  {
   "cell_type": "markdown",
   "id": "5229469e",
   "metadata": {},
   "source": [
    "### Import and Shape Data"
   ]
  },
  {
   "cell_type": "code",
   "execution_count": 2,
   "id": "28a14316",
   "metadata": {},
   "outputs": [
    {
     "name": "stdout",
     "output_type": "stream",
     "text": [
      "Defaulting to user installation because normal site-packages is not writeable\n",
      "Requirement already satisfied: emnist in c:\\users\\user\\appdata\\roaming\\python\\python39\\site-packages (0.0)\n",
      "Requirement already satisfied: requests in c:\\users\\user\\appdata\\roaming\\python\\python39\\site-packages (from emnist) (2.28.2)\n",
      "Requirement already satisfied: tqdm in c:\\programdata\\anaconda3\\lib\\site-packages (from emnist) (4.64.0)\n",
      "Requirement already satisfied: numpy in c:\\programdata\\anaconda3\\lib\\site-packages (from emnist) (1.21.5)\n",
      "Requirement already satisfied: idna<4,>=2.5 in c:\\programdata\\anaconda3\\lib\\site-packages (from requests->emnist) (3.3)\n",
      "Requirement already satisfied: certifi>=2017.4.17 in c:\\programdata\\anaconda3\\lib\\site-packages (from requests->emnist) (2021.10.8)\n",
      "Requirement already satisfied: charset-normalizer<4,>=2 in c:\\programdata\\anaconda3\\lib\\site-packages (from requests->emnist) (2.0.4)\n",
      "Requirement already satisfied: urllib3<1.27,>=1.21.1 in c:\\programdata\\anaconda3\\lib\\site-packages (from requests->emnist) (1.26.9)\n",
      "Requirement already satisfied: colorama in c:\\programdata\\anaconda3\\lib\\site-packages (from tqdm->emnist) (0.4.4)\n"
     ]
    },
    {
     "name": "stderr",
     "output_type": "stream",
     "text": [
      "\n",
      "[notice] A new release of pip is available: 23.0 -> 23.0.1\n",
      "[notice] To update, run: python.exe -m pip install --upgrade pip\n"
     ]
    }
   ],
   "source": [
    "!pip install emnist"
   ]
  },
  {
   "cell_type": "code",
   "execution_count": 3,
   "id": "76f5acd4",
   "metadata": {},
   "outputs": [
    {
     "data": {
      "text/plain": [
       "['balanced', 'byclass', 'bymerge', 'digits', 'letters', 'mnist']"
      ]
     },
     "execution_count": 3,
     "metadata": {},
     "output_type": "execute_result"
    }
   ],
   "source": [
    "# pip install emnist\n",
    "# Import Dataset(s)\n",
    "from emnist import list_datasets\n",
    "list_datasets()"
   ]
  },
  {
   "cell_type": "code",
   "execution_count": 4,
   "id": "f3ca203a",
   "metadata": {},
   "outputs": [],
   "source": [
    "# Working with 'letters'\n",
    "# Import \n",
    "from emnist import extract_training_samples\n",
    "images_train, labels_train = extract_training_samples('letters')\n",
    "from emnist import extract_test_samples\n",
    "images_test, labels_test = extract_test_samples('letters')"
   ]
  },
  {
   "cell_type": "code",
   "execution_count": 5,
   "id": "879c619e",
   "metadata": {},
   "outputs": [
    {
     "name": "stdout",
     "output_type": "stream",
     "text": [
      "(124800, 28, 28)\n",
      "(124800,)\n",
      "(20800, 28, 28)\n",
      "(20800,)\n"
     ]
    }
   ],
   "source": [
    "# Check shape of training and testing data\n",
    "print(images_train.shape)\n",
    "print(labels_train.shape)\n",
    "print(images_test.shape)\n",
    "print(labels_test.shape)"
   ]
  },
  {
   "cell_type": "code",
   "execution_count": 6,
   "id": "b45d15e3",
   "metadata": {},
   "outputs": [
    {
     "data": {
      "text/plain": [
       "<matplotlib.image.AxesImage at 0x1fd41e74430>"
      ]
     },
     "execution_count": 6,
     "metadata": {},
     "output_type": "execute_result"
    },
    {
     "data": {
      "image/png": "[encoded data removed]",
      "text/plain": [
       "<Figure size 432x288 with 1 Axes>"
      ]
     },
     "metadata": {
      "needs_background": "light"
     },
     "output_type": "display_data"
    }
   ],
   "source": [
    "# Plot an image\n",
    "import matplotlib.pyplot as plt\n",
    "plt.imshow(images_train[0,:,:], cmap=plt.cm.Greys)"
   ]
  },
  {
   "cell_type": "markdown",
   "id": "ceb031b9",
   "metadata": {},
   "source": [
    "### Create and Evaluate Model"
   ]
  },
  {
   "cell_type": "code",
   "execution_count": 18,
   "id": "dfddd498",
   "metadata": {},
   "outputs": [],
   "source": [
    "import numpy as np\n",
    "import pandas as pd\n",
    "import keras\n",
    "from keras.models import Sequential\n",
    "from keras.layers import Dense, Dropout, Flatten, Conv2D, MaxPooling2D\n",
    "from sklearn.model_selection import train_test_split\n",
    "\n",
    "# Load EMNIST letters subset data\n",
    "train_data = pd.read_csv('emnist-letters-train.csv', header=None)\n",
    "test_data = pd.read_csv('emnist-letters-test.csv', header=None)\n",
    "\n",
    "# Split into features and labels\n",
    "x_train = train_data.iloc[:, 1:].values.astype('float32')\n",
    "y_train = train_data.iloc[:, 0].values.astype('int32')\n",
    "x_test = test_data.iloc[:, 1:].values.astype('float32')\n",
    "y_test = test_data.iloc[:, 0].values.astype('int32')\n",
    "\n",
    "# Normalize data\n",
    "x_train /= 255\n",
    "x_test /= 255\n",
    "\n",
    "# Reshape data for CNN model\n",
    "img_rows, img_cols = 28, 28\n",
    "if keras.backend.image_data_format() == 'channels_first':\n",
    "    x_train = x_train.reshape(x_train.shape[0], 1, img_rows, img_cols)\n",
    "    x_test = x_test.reshape(x_test.shape[0], 1, img_rows, img_cols)\n",
    "    input_shape = (1, img_rows, img_cols)\n",
    "else:\n",
    "    x_train = x_train.reshape(x_train.shape[0], img_rows, img_cols, 1)\n",
    "    x_test = x_test.reshape(x_test.shape[0], img_rows, img_cols, 1)\n",
    "    input_shape = (img_rows, img_cols, 1)\n",
    "\n",
    "# Convert labels to one-hot encoding\n",
    "num_classes = 26\n",
    "y_train = keras.utils.to_categorical(y_train - 1, num_classes)\n",
    "y_test = keras.utils.to_categorical(y_test - 1, num_classes)\n",
    "\n",
    "# Split data into training and validation sets\n",
    "x_train, x_val, y_train, y_val = train_test_split(x_train, y_train, test_size=0.2, random_state=42)\n",
    "\n",
    "# Define model architecture\n",
    "model = Sequential()\n",
    "model.add(Conv2D(32, kernel_size=(3, 3), activation='relu', input_shape=input_shape))\n",
    "model.add(Conv2D(64, kernel_size=(3, 3), activation='relu'))\n",
    "model.add(MaxPooling2D(pool_size=(2, 2)))\n",
    "model.add(Dropout(0.25))\n",
    "model.add(Flatten())\n",
    "model.add(Dense(128, activation='relu'))\n",
    "model.add(Dropout(0.5))\n",
    "model.add(Dense(num_classes, activation='softmax'))"
   ]
  },
  {
   "cell_type": "code",
   "execution_count": 19,
   "id": "3d9bfdab",
   "metadata": {},
   "outputs": [],
   "source": [
    "# Compile Model\n",
    "model.compile(loss='categorical_crossentropy', optimizer='rmsprop' , metrics=['accuracy'])"
   ]
  },
  {
   "cell_type": "code",
   "execution_count": 20,
   "id": "bb339133",
   "metadata": {},
   "outputs": [
    {
     "name": "stdout",
     "output_type": "stream",
     "text": [
      "Epoch 1/10\n",
      "555/555 [==============================] - 82s 146ms/step - loss: 0.9629 - accuracy: 0.7110 - val_loss: 0.3617 - val_accuracy: 0.8875\n",
      "Epoch 2/10\n",
      "555/555 [==============================] - 99s 179ms/step - loss: 0.5065 - accuracy: 0.8412 - val_loss: 0.2841 - val_accuracy: 0.9099\n",
      "Epoch 3/10\n",
      "555/555 [==============================] - 101s 182ms/step - loss: 0.4134 - accuracy: 0.8726 - val_loss: 0.2519 - val_accuracy: 0.9188\n",
      "Epoch 4/10\n",
      "555/555 [==============================] - 101s 183ms/step - loss: 0.3692 - accuracy: 0.8841 - val_loss: 0.2393 - val_accuracy: 0.9236\n",
      "Epoch 5/10\n",
      "555/555 [==============================] - 101s 182ms/step - loss: 0.3553 - accuracy: 0.8892 - val_loss: 0.2484 - val_accuracy: 0.9250\n",
      "Epoch 6/10\n",
      "555/555 [==============================] - 102s 184ms/step - loss: 0.3416 - accuracy: 0.8941 - val_loss: 0.2261 - val_accuracy: 0.9288\n",
      "Epoch 7/10\n",
      "555/555 [==============================] - 107s 193ms/step - loss: 0.3348 - accuracy: 0.8982 - val_loss: 0.2487 - val_accuracy: 0.9273\n",
      "Epoch 8/10\n",
      "555/555 [==============================] - 102s 184ms/step - loss: 0.3254 - accuracy: 0.9012 - val_loss: 0.2175 - val_accuracy: 0.9310\n",
      "Epoch 9/10\n",
      "555/555 [==============================] - 101s 183ms/step - loss: 0.3224 - accuracy: 0.9014 - val_loss: 0.2655 - val_accuracy: 0.9245\n",
      "Epoch 10/10\n",
      "555/555 [==============================] - 103s 185ms/step - loss: 0.3222 - accuracy: 0.9026 - val_loss: 0.2203 - val_accuracy: 0.9307\n"
     ]
    }
   ],
   "source": [
    "# Train model\n",
    "batch_size = 128\n",
    "epochs = 10\n",
    "history = model.fit(x_train, y_train, batch_size=batch_size, epochs=epochs, verbose=1, validation_data=(x_val, y_val))"
   ]
  },
  {
   "cell_type": "code",
   "execution_count": 21,
   "id": "836766bc",
   "metadata": {},
   "outputs": [],
   "source": [
    "# Save Model\n",
    "model.save(\"emnist_trained_CNN.h5\")"
   ]
  },
  {
   "cell_type": "code",
   "execution_count": 22,
   "id": "19ef8543",
   "metadata": {},
   "outputs": [],
   "source": [
    "# Load Model\n",
    "from tensorflow.keras.models import load_model\n",
    "model = load_model(\"emnist_trained_CNN.h5\")"
   ]
  },
  {
   "cell_type": "code",
   "execution_count": 23,
   "id": "c467d1f6",
   "metadata": {},
   "outputs": [
    {
     "name": "stdout",
     "output_type": "stream",
     "text": [
      "Test loss: 0.26327982544898987\n",
      "Test accuracy: 0.9158783555030823\n"
     ]
    }
   ],
   "source": [
    "# Evaluate model on test data\n",
    "score = model.evaluate(x_test, y_test, verbose=0)\n",
    "print('Test loss:', score[0])\n",
    "print('Test accuracy:', score[1])\n"
   ]
  },
  {
   "cell_type": "code",
   "execution_count": null,
   "id": "420a8d22",
   "metadata": {},
   "outputs": [],
   "source": []
  }
 ],
 "metadata": {
  "kernelspec": {
   "display_name": "Python 3 (ipykernel)",
   "language": "python",
   "name": "python3"
  },
  "language_info": {
   "codemirror_mode": {
    "name": "ipython",
    "version": 3
   },
   "file_extension": ".py",
   "mimetype": "text/x-python",
   "name": "python",
   "nbconvert_exporter": "python",
   "pygments_lexer": "ipython3",
   "version": "3.9.12"
  }
 },
 "nbformat": 4,
 "nbformat_minor": 5
}
