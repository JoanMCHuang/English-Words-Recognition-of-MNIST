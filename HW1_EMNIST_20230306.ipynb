{
 "cells": [
  {
   "cell_type": "markdown",
   "metadata": {},
   "source": [
    "### Dependencies"
   ]
  },
  {
   "cell_type": "code",
   "execution_count": 43,
   "metadata": {},
   "outputs": [],
   "source": [
    "# Visualization Dependencies\n",
    "from IPython.display import Image, SVG\n",
    "import seaborn as sns\n",
    "import os\n",
    "import numpy as np"
   ]
  },
  {
   "cell_type": "markdown",
   "metadata": {},
   "source": [
    "### Import and Shape Data"
   ]
  },
  {
   "cell_type": "code",
   "execution_count": 44,
   "metadata": {},
   "outputs": [
    {
     "name": "stdout",
     "output_type": "stream",
     "text": [
      "Defaulting to user installation because normal site-packages is not writeable\n",
      "Requirement already satisfied: emnist in c:\\users\\user\\appdata\\roaming\\python\\python39\\site-packages (0.0)\n",
      "Requirement already satisfied: numpy in c:\\programdata\\anaconda3\\lib\\site-packages (from emnist) (1.21.5)\n",
      "Requirement already satisfied: tqdm in c:\\programdata\\anaconda3\\lib\\site-packages (from emnist) (4.64.0)\n",
      "Requirement already satisfied: requests in c:\\users\\user\\appdata\\roaming\\python\\python39\\site-packages (from emnist) (2.28.2)\n",
      "Requirement already satisfied: charset-normalizer<4,>=2 in c:\\programdata\\anaconda3\\lib\\site-packages (from requests->emnist) (2.0.4)\n",
      "Requirement already satisfied: urllib3<1.27,>=1.21.1 in c:\\programdata\\anaconda3\\lib\\site-packages (from requests->emnist) (1.26.9)\n",
      "Requirement already satisfied: idna<4,>=2.5 in c:\\programdata\\anaconda3\\lib\\site-packages (from requests->emnist) (3.3)\n",
      "Requirement already satisfied: certifi>=2017.4.17 in c:\\programdata\\anaconda3\\lib\\site-packages (from requests->emnist) (2021.10.8)\n",
      "Requirement already satisfied: colorama in c:\\programdata\\anaconda3\\lib\\site-packages (from tqdm->emnist) (0.4.4)\n"
     ]
    },
    {
     "name": "stderr",
     "output_type": "stream",
     "text": [
      "\n",
      "[notice] A new release of pip is available: 23.0 -> 23.0.1\n",
      "[notice] To update, run: python.exe -m pip install --upgrade pip\n"
     ]
    }
   ],
   "source": [
    "!pip install emnist"
   ]
  },
  {
   "cell_type": "code",
   "execution_count": 45,
   "metadata": {
    "scrolled": true
   },
   "outputs": [
    {
     "data": {
      "text/plain": [
       "['balanced', 'byclass', 'bymerge', 'digits', 'letters', 'mnist']"
      ]
     },
     "execution_count": 45,
     "metadata": {},
     "output_type": "execute_result"
    }
   ],
   "source": [
    "# pip install emnist\n",
    "# Import Dataset(s)\n",
    "from emnist import list_datasets\n",
    "list_datasets()"
   ]
  },
  {
   "cell_type": "code",
   "execution_count": 46,
   "metadata": {},
   "outputs": [],
   "source": [
    "# Working with 'letters'\n",
    "# Import \n",
    "from emnist import extract_training_samples\n",
    "images_train, labels_train = extract_training_samples('letters')\n",
    "from emnist import extract_test_samples\n",
    "images_test, labels_test = extract_test_samples('letters')"
   ]
  },
  {
   "cell_type": "code",
   "execution_count": 47,
   "metadata": {},
   "outputs": [
    {
     "name": "stdout",
     "output_type": "stream",
     "text": [
      "(124800, 28, 28)\n",
      "(124800,)\n",
      "(20800, 28, 28)\n",
      "(20800,)\n"
     ]
    }
   ],
   "source": [
    "# Check shape of training and testing data\n",
    "print(images_train.shape)\n",
    "print(labels_train.shape)\n",
    "print(images_test.shape)\n",
    "print(labels_test.shape)"
   ]
  },
  {
   "cell_type": "code",
   "execution_count": 48,
   "metadata": {},
   "outputs": [
    {
     "data": {
      "text/plain": [
       "<matplotlib.image.AxesImage at 0x25e178e4340>"
      ]
     },
     "execution_count": 48,
     "metadata": {},
     "output_type": "execute_result"
    },
    {
     "data": {
      "image/png": "[encoded data removed]",
      "text/plain": [
       "<Figure size 432x288 with 1 Axes>"
      ]
     },
     "metadata": {
      "needs_background": "light"
     },
     "output_type": "display_data"
    }
   ],
   "source": [
    "# Plot an image\n",
    "import matplotlib.pyplot as plt\n",
    "plt.imshow(images_train[0,:,:], cmap=plt.cm.Greys)"
   ]
  },
  {
   "cell_type": "code",
   "execution_count": 49,
   "metadata": {},
   "outputs": [
    {
     "name": "stdout",
     "output_type": "stream",
     "text": [
      "Training Shape: (124800, 784)\n",
      "Testing Shape: (20800, 784)\n"
     ]
    }
   ],
   "source": [
    "# Flatten Data\n",
    "dims = images_train.shape[1] * images_train.shape[2]\n",
    "X_train = images_train.reshape(images_train.shape[0], dims)\n",
    "X_test = images_test.reshape(images_test.shape[0], dims)\n",
    "print(\"Training Shape:\", X_train.shape)\n",
    "print(\"Testing Shape:\", X_test.shape)"
   ]
  },
  {
   "cell_type": "code",
   "execution_count": 50,
   "metadata": {},
   "outputs": [],
   "source": [
    "# Rescale to 0 -> 1 by dividing by max pixel value (255)\n",
    "X_train = X_train.astype('float32')/255\n",
    "X_test = X_test.astype('float32')/255"
   ]
  },
  {
   "cell_type": "code",
   "execution_count": 51,
   "metadata": {},
   "outputs": [],
   "source": [
    "# One-Hot Encoding\n",
    "\n",
    "from keras.utils import np_utils # used to convert array of labeled data to one-hot vector\n",
    "# should be 26 but out of index?\n",
    "# Effects accuracy as have a class where their will be no results\n",
    "num_classes = 27\n",
    "y_train = np_utils.to_categorical(labels_train, num_classes)\n",
    "y_test = np_utils.to_categorical(labels_test, num_classes)"
   ]
  },
  {
   "cell_type": "markdown",
   "metadata": {},
   "source": [
    "## Create and Evaluate Model"
   ]
  },
  {
   "cell_type": "code",
   "execution_count": 54,
   "metadata": {},
   "outputs": [],
   "source": [
    "# Empty Sequential model\n",
    "from tensorflow.keras.models import Sequential\n",
    "from keras.layers.convolutional import Conv2D\n",
    "from keras.layers.convolutional import MaxPooling2D\n",
    "from tensorflow.keras.layers import Dense, Dropout, Flatten\n",
    "\n",
    "model = Sequential()\n",
    "\n",
    "#Layers\n",
    "# 1 - number of elements (pixels) in each image\n",
    "# Dense layer - when every node from previous layer is connected to each node in current layer\n",
    "model.add(Dense(500, activation='relu'))\n",
    "\n",
    "# Second Hidden Layer\n",
    "model.add(Dense(500, activation='relu'))\n",
    "\n",
    "#Third Hidden Layer\n",
    "model.add(Dense(500, activation='relu'))\n",
    "\n",
    "model.add(Dropout(0.5))\n",
    "\n",
    "#Output Layer - number of nodes corresponds to number of y labels\n",
    "model.add(Dense(num_classes, activation='softmax'))"
   ]
  },
  {
   "cell_type": "code",
   "execution_count": 55,
   "metadata": {},
   "outputs": [],
   "source": [
    "# Compile Model\n",
    "model.compile(loss='categorical_crossentropy', optimizer='rmsprop' , metrics=['accuracy'])"
   ]
  },
  {
   "cell_type": "code",
   "execution_count": 56,
   "metadata": {},
   "outputs": [
    {
     "name": "stdout",
     "output_type": "stream",
     "text": [
      "Epoch 1/10\n",
      "975/975 [==============================] - 16s 15ms/step - loss: 0.6412 - accuracy: 0.8030\n",
      "Epoch 2/10\n",
      "975/975 [==============================] - 15s 15ms/step - loss: 0.3372 - accuracy: 0.8938\n",
      "Epoch 3/10\n",
      "975/975 [==============================] - 15s 15ms/step - loss: 0.2992 - accuracy: 0.9071\n",
      "Epoch 4/10\n",
      "975/975 [==============================] - 14s 14ms/step - loss: 0.2951 - accuracy: 0.9100\n",
      "Epoch 5/10\n",
      "975/975 [==============================] - 15s 15ms/step - loss: 0.2995 - accuracy: 0.9110\n",
      "Epoch 6/10\n",
      "975/975 [==============================] - 16s 17ms/step - loss: 0.3081 - accuracy: 0.9101\n",
      "Epoch 7/10\n",
      "975/975 [==============================] - 18s 19ms/step - loss: 0.3133 - accuracy: 0.9094\n",
      "Epoch 8/10\n",
      "975/975 [==============================] - 16s 17ms/step - loss: 0.3284 - accuracy: 0.9080\n",
      "Epoch 9/10\n",
      "975/975 [==============================] - 17s 17ms/step - loss: 0.3357 - accuracy: 0.9073\n",
      "Epoch 10/10\n",
      "975/975 [==============================] - 17s 17ms/step - loss: 0.3442 - accuracy: 0.9058\n"
     ]
    },
    {
     "data": {
      "text/plain": [
       "<keras.callbacks.History at 0x25e17ba7dc0>"
      ]
     },
     "execution_count": 56,
     "metadata": {},
     "output_type": "execute_result"
    }
   ],
   "source": [
    "# Train Model\n",
    "model.fit(X_train, y_train, batch_size=128, epochs=10, shuffle=True, verbose=1)\n"
   ]
  },
  {
   "cell_type": "code",
   "execution_count": 57,
   "metadata": {},
   "outputs": [],
   "source": [
    "# Save Model\n",
    "model.save(\"emnist_trained.h5\")"
   ]
  },
  {
   "cell_type": "code",
   "execution_count": 58,
   "metadata": {},
   "outputs": [],
   "source": [
    "# Load Model\n",
    "from tensorflow.keras.models import load_model\n",
    "model = load_model(\"emnist_trained.h5\")"
   ]
  },
  {
   "cell_type": "code",
   "execution_count": 59,
   "metadata": {},
   "outputs": [
    {
     "name": "stdout",
     "output_type": "stream",
     "text": [
      "WARNING:tensorflow:Model was constructed with shape (128, 784) for input KerasTensor(type_spec=TensorSpec(shape=(128, 784), dtype=tf.float32, name='dense_12_input'), name='dense_12_input', description=\"created by layer 'dense_12_input'\"), but it was called on an input with incompatible shape (32, 784).\n",
      "650/650 - 3s - loss: 0.4937 - accuracy: 0.9006 - 3s/epoch - 4ms/step\n",
      "Loss: 0.49368271231651306, Accuracy: 0.9005769491195679\n"
     ]
    }
   ],
   "source": [
    "# Evaluate Model\n",
    "model_loss, model_accuracy = model.evaluate(X_test, y_test, verbose=2)\n",
    "print(f\"Loss: {model_loss}, Accuracy: {model_accuracy}\")"
   ]
  },
  {
   "cell_type": "code",
   "execution_count": null,
   "metadata": {},
   "outputs": [],
   "source": []
  }
 ],
 "metadata": {
  "kernelspec": {
   "display_name": "Python 3 (ipykernel)",
   "language": "python",
   "name": "python3"
  },
  "language_info": {
   "codemirror_mode": {
    "name": "ipython",
    "version": 3
   },
   "file_extension": ".py",
   "mimetype": "text/x-python",
   "name": "python",
   "nbconvert_exporter": "python",
   "pygments_lexer": "ipython3",
   "version": "3.9.12"
  }
 },
 "nbformat": 4,
 "nbformat_minor": 2
}
